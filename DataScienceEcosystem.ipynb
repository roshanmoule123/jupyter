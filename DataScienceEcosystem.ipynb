{
 "cells": [
  {
   "cell_type": "markdown",
   "id": "cb076880-4673-4acc-b7fe-8462ee38bf9b",
   "metadata": {},
   "source": [
    "<h1>Data Science Tools and Ecosystem</h1>"
   ]
  },
  {
   "cell_type": "markdown",
   "id": "410365be-f813-4b9e-8b39-5e80c9bae802",
   "metadata": {},
   "source": [
    "In this notebook, Data Science Tools and Ecosystem are summarized."
   ]
  },
  {
   "cell_type": "markdown",
   "id": "35377096-c4ea-4c18-9541-d8e9ac957b1c",
   "metadata": {},
   "source": [
    "Some of the popular languages that Data Scientists use are:\n",
    "\n",
    "1. Python\n",
    "2. R\n",
    "3. Sql\n",
    "4. Java"
   ]
  },
  {
   "cell_type": "markdown",
   "id": "313de651-08df-4a25-a087-b2a750f59cc7",
   "metadata": {},
   "source": [
    "Some of the commonly used libraries used by Data Scientists include: \n",
    "\n",
    "1. TensorFlow\n",
    "2. NumPy\n",
    "3. SciPy \n",
    "4. Pandas\n",
    "5. Matplotlib \n",
    "6. Keras\n",
    "7. SciKit-Learn\n",
    "8. PyTorch\n",
    "9. Scrapy"
   ]
  },
  {
   "cell_type": "markdown",
   "id": "f6652274-60ad-43b9-995c-bf5838daeb0c",
   "metadata": {},
   "source": [
    "Data Science Tools\n",
    "\n",
    "   | No | Data Science Tools |\n",
    "   |----|--------------------|\n",
    "   | 1. |   MATLAB           |\n",
    "   | 2. |   EXCEL            |\n",
    "   | 3. |   Tableau          |"
   ]
  },
  {
   "cell_type": "markdown",
   "id": "dcacf7c1-8d39-44f8-b51d-d68be0130975",
   "metadata": {},
   "source": [
    "Below are a few examples of evaluating arithmetic expressions in Python:\n",
    "1. a+b\n",
    "2. a-b\n",
    "3. c/d\n",
    "4. a*b"
   ]
  },
  {
   "cell_type": "code",
   "execution_count": 1,
   "id": "860fd6a0-063e-4979-ae3e-7ba0f1ab2c49",
   "metadata": {},
   "outputs": [
    {
     "data": {
      "text/plain": [
       "17"
      ]
     },
     "execution_count": 1,
     "metadata": {},
     "output_type": "execute_result"
    }
   ],
   "source": [
    "(3*4)+5\n",
    "# This a simple arithmetic expression to mutiply then add integers"
   ]
  },
  {
   "cell_type": "code",
   "execution_count": 3,
   "id": "b46fa5b6-9497-4dbf-b26f-9a5d1e1a742d",
   "metadata": {},
   "outputs": [
    {
     "name": "stdout",
     "output_type": "stream",
     "text": [
      "Hour : Minute :-->  3  :  20\n"
     ]
    }
   ],
   "source": [
    "min = int(200)\n",
    "print(\"Hour : Minute :--> \", int(min/60), \" : \", min % 60)\n",
    "# This will convert 200 minutes to hours by diving by 60"
   ]
  },
  {
   "cell_type": "markdown",
   "id": "db5c9b96-f8ae-4017-8e62-dbd6c1e2cad2",
   "metadata": {},
   "source": [
    "List popular languages for Data Science:\n",
    "\n",
    "- Python\n",
    "- R\n",
    "- Sql\n",
    "- Java"
   ]
  },
  {
   "cell_type": "markdown",
   "id": "fc1c3be0-a299-49db-a9fc-3847d6fd3915",
   "metadata": {},
   "source": [
    "<h2>Author</h2>\n",
    "\n",
    "- Lakshmi Holla\n",
    "- Niveditha Pandith"
   ]
  },
  {
   "cell_type": "code",
   "execution_count": null,
   "id": "6a3a30d7-3472-4383-add2-2651969ac990",
   "metadata": {},
   "outputs": [],
   "source": []
  }
 ],
 "metadata": {
  "kernelspec": {
   "display_name": "Python 3 (ipykernel)",
   "language": "python",
   "name": "python3"
  },
  "language_info": {
   "codemirror_mode": {
    "name": "ipython",
    "version": 3
   },
   "file_extension": ".py",
   "mimetype": "text/x-python",
   "name": "python",
   "nbconvert_exporter": "python",
   "pygments_lexer": "ipython3",
   "version": "3.8.10"
  }
 },
 "nbformat": 4,
 "nbformat_minor": 5
}
